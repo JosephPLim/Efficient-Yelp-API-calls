{
 "cells": [
  {
   "cell_type": "code",
   "execution_count": 1,
   "id": "29f8c149",
   "metadata": {},
   "outputs": [],
   "source": [
    "#Run this if you get an error of no yelpapi existing\n",
    "#!pip install yelpapi"
   ]
  },
  {
   "cell_type": "code",
   "execution_count": 9,
   "id": "fb3c3332",
   "metadata": {},
   "outputs": [],
   "source": [
    "import numpy as np\n",
    "import pandas as pd\n",
    "\n",
    "import json\n",
    "from yelpapi import YelpAPI"
   ]
  },
  {
   "cell_type": "code",
   "execution_count": 3,
   "id": "799790cf",
   "metadata": {},
   "outputs": [
    {
     "data": {
      "text/plain": [
       "dict_keys(['client-id', 'api-key'])"
      ]
     },
     "execution_count": 3,
     "metadata": {},
     "output_type": "execute_result"
    }
   ],
   "source": [
    "with open('/Users/joseph/.secret/yelp_api.json') as f: #change the path to match YOUR path!!\n",
    "    login = json.load(f)\n",
    "login.keys()"
   ]
  },
  {
   "cell_type": "code",
   "execution_count": 4,
   "id": "a1fb90dd",
   "metadata": {},
   "outputs": [
    {
     "data": {
      "text/plain": [
       "<yelpapi.yelpapi.YelpAPI at 0x1141986d0>"
      ]
     },
     "execution_count": 4,
     "metadata": {},
     "output_type": "execute_result"
    }
   ],
   "source": [
    "yelp_api = YelpAPI(login['api-key'], timeout_s=5.0)\n",
    "yelp_api"
   ]
  },
  {
   "cell_type": "code",
   "execution_count": 5,
   "id": "39d07a74",
   "metadata": {
    "scrolled": true
   },
   "outputs": [
    {
     "name": "stdout",
     "output_type": "stream",
     "text": [
      "Help on method search_query in module yelpapi.yelpapi:\n",
      "\n",
      "search_query(**kwargs) method of yelpapi.yelpapi.YelpAPI instance\n",
      "    Query the Yelp Search API.\n",
      "    \n",
      "    documentation: https://www.yelp.com/developers/documentation/v3/business_search\n",
      "    \n",
      "    required parameters:\n",
      "        * one of either:\n",
      "            * location - text specifying a location to search for\n",
      "            * latitude and longitude\n",
      "\n"
     ]
    }
   ],
   "source": [
    "help(yelp_api.search_query)"
   ]
  },
  {
   "cell_type": "code",
   "execution_count": 15,
   "id": "251a816a",
   "metadata": {
    "scrolled": true
   },
   "outputs": [
    {
     "name": "stdout",
     "output_type": "stream",
     "text": [
      "<class 'dict'>\n"
     ]
    },
    {
     "data": {
      "text/plain": [
       "dict_keys(['businesses', 'total', 'region'])"
      ]
     },
     "execution_count": 15,
     "metadata": {},
     "output_type": "execute_result"
    }
   ],
   "source": [
    "# use our yelp_api variable's search_query method to perform our API call\n",
    "city = \"Little Rock, AR\"\n",
    "food = \"burgers\"\n",
    "search_results = yelp_api.search_query(location= city,\n",
    "                                       term = food)\n",
    "print(type(search_results))\n",
    "search_results.keys()"
   ]
  },
  {
   "cell_type": "code",
   "execution_count": 16,
   "id": "5323af88",
   "metadata": {
    "scrolled": true
   },
   "outputs": [
    {
     "data": {
      "text/plain": [
       "420"
      ]
     },
     "execution_count": 16,
     "metadata": {},
     "output_type": "execute_result"
    }
   ],
   "source": [
    "search_results['total']"
   ]
  },
  {
   "cell_type": "code",
   "execution_count": 17,
   "id": "5f1e0865",
   "metadata": {},
   "outputs": [
    {
     "data": {
      "text/plain": [
       "20"
      ]
     },
     "execution_count": 17,
     "metadata": {},
     "output_type": "execute_result"
    }
   ],
   "source": [
    "## how many businesses in our results\n",
    "len(search_results['businesses'])"
   ]
  },
  {
   "cell_type": "code",
   "execution_count": 19,
   "id": "2505859c",
   "metadata": {
    "scrolled": true
   },
   "outputs": [
    {
     "data": {
      "text/html": [
       "<div>\n",
       "<style scoped>\n",
       "    .dataframe tbody tr th:only-of-type {\n",
       "        vertical-align: middle;\n",
       "    }\n",
       "\n",
       "    .dataframe tbody tr th {\n",
       "        vertical-align: top;\n",
       "    }\n",
       "\n",
       "    .dataframe thead th {\n",
       "        text-align: right;\n",
       "    }\n",
       "</style>\n",
       "<table border=\"1\" class=\"dataframe\">\n",
       "  <thead>\n",
       "    <tr style=\"text-align: right;\">\n",
       "      <th></th>\n",
       "      <th>id</th>\n",
       "      <th>alias</th>\n",
       "      <th>name</th>\n",
       "      <th>image_url</th>\n",
       "      <th>is_closed</th>\n",
       "      <th>url</th>\n",
       "      <th>review_count</th>\n",
       "      <th>categories</th>\n",
       "      <th>rating</th>\n",
       "      <th>coordinates</th>\n",
       "      <th>transactions</th>\n",
       "      <th>price</th>\n",
       "      <th>location</th>\n",
       "      <th>phone</th>\n",
       "      <th>display_phone</th>\n",
       "      <th>distance</th>\n",
       "    </tr>\n",
       "  </thead>\n",
       "  <tbody>\n",
       "    <tr>\n",
       "      <th>0</th>\n",
       "      <td>-ihewqJrusrWq9hj4jaIiA</td>\n",
       "      <td>big-orange-little-rock-2</td>\n",
       "      <td>Big Orange</td>\n",
       "      <td>https://s3-media2.fl.yelpcdn.com/bphoto/Ht_Yd_...</td>\n",
       "      <td>False</td>\n",
       "      <td>https://www.yelp.com/biz/big-orange-little-roc...</td>\n",
       "      <td>602</td>\n",
       "      <td>[{'alias': 'burgers', 'title': 'Burgers'}]</td>\n",
       "      <td>4.5</td>\n",
       "      <td>{'latitude': 34.7531331313556, 'longitude': -9...</td>\n",
       "      <td>[delivery]</td>\n",
       "      <td>$$</td>\n",
       "      <td>{'address1': '207 N University Ave', 'address2...</td>\n",
       "      <td>+15013798715</td>\n",
       "      <td>(501) 379-8715</td>\n",
       "      <td>3308.868005</td>\n",
       "    </tr>\n",
       "    <tr>\n",
       "      <th>1</th>\n",
       "      <td>hI0cnPhRvF5pVP3BEtecTg</td>\n",
       "      <td>davids-burgers-little-rock</td>\n",
       "      <td>David's Burgers</td>\n",
       "      <td>https://s3-media2.fl.yelpcdn.com/bphoto/eUn_Bg...</td>\n",
       "      <td>False</td>\n",
       "      <td>https://www.yelp.com/biz/davids-burgers-little...</td>\n",
       "      <td>195</td>\n",
       "      <td>[{'alias': 'burgers', 'title': 'Burgers'}]</td>\n",
       "      <td>4.5</td>\n",
       "      <td>{'latitude': 34.753454, 'longitude': -92.406499}</td>\n",
       "      <td>[delivery]</td>\n",
       "      <td>$$</td>\n",
       "      <td>{'address1': '101 S Bowman Rd', 'address2': ''...</td>\n",
       "      <td>+15012278333</td>\n",
       "      <td>(501) 227-8333</td>\n",
       "      <td>7038.847918</td>\n",
       "    </tr>\n",
       "  </tbody>\n",
       "</table>\n",
       "</div>"
      ],
      "text/plain": [
       "                       id                       alias             name  \\\n",
       "0  -ihewqJrusrWq9hj4jaIiA    big-orange-little-rock-2       Big Orange   \n",
       "1  hI0cnPhRvF5pVP3BEtecTg  davids-burgers-little-rock  David's Burgers   \n",
       "\n",
       "                                           image_url  is_closed  \\\n",
       "0  https://s3-media2.fl.yelpcdn.com/bphoto/Ht_Yd_...      False   \n",
       "1  https://s3-media2.fl.yelpcdn.com/bphoto/eUn_Bg...      False   \n",
       "\n",
       "                                                 url  review_count  \\\n",
       "0  https://www.yelp.com/biz/big-orange-little-roc...           602   \n",
       "1  https://www.yelp.com/biz/davids-burgers-little...           195   \n",
       "\n",
       "                                   categories  rating  \\\n",
       "0  [{'alias': 'burgers', 'title': 'Burgers'}]     4.5   \n",
       "1  [{'alias': 'burgers', 'title': 'Burgers'}]     4.5   \n",
       "\n",
       "                                         coordinates transactions price  \\\n",
       "0  {'latitude': 34.7531331313556, 'longitude': -9...   [delivery]    $$   \n",
       "1   {'latitude': 34.753454, 'longitude': -92.406499}   [delivery]    $$   \n",
       "\n",
       "                                            location         phone  \\\n",
       "0  {'address1': '207 N University Ave', 'address2...  +15013798715   \n",
       "1  {'address1': '101 S Bowman Rd', 'address2': ''...  +15012278333   \n",
       "\n",
       "    display_phone     distance  \n",
       "0  (501) 379-8715  3308.868005  \n",
       "1  (501) 227-8333  7038.847918  "
      ]
     },
     "execution_count": 19,
     "metadata": {},
     "output_type": "execute_result"
    }
   ],
   "source": [
    "biz = pd.DataFrame(search_results['businesses'])\n",
    "biz.head(2) "
   ]
  },
  {
   "cell_type": "code",
   "execution_count": 20,
   "id": "ad384d6e",
   "metadata": {},
   "outputs": [],
   "source": [
    "# add offset to our original api call\n",
    "search_results = yelp_api.search_query(location = city,\n",
    "                                       term = food,\n",
    "                                       offset = 20)"
   ]
  },
  {
   "cell_type": "code",
   "execution_count": 21,
   "id": "3291a213",
   "metadata": {},
   "outputs": [
    {
     "data": {
      "text/html": [
       "<div>\n",
       "<style scoped>\n",
       "    .dataframe tbody tr th:only-of-type {\n",
       "        vertical-align: middle;\n",
       "    }\n",
       "\n",
       "    .dataframe tbody tr th {\n",
       "        vertical-align: top;\n",
       "    }\n",
       "\n",
       "    .dataframe thead th {\n",
       "        text-align: right;\n",
       "    }\n",
       "</style>\n",
       "<table border=\"1\" class=\"dataframe\">\n",
       "  <thead>\n",
       "    <tr style=\"text-align: right;\">\n",
       "      <th></th>\n",
       "      <th>id</th>\n",
       "      <th>alias</th>\n",
       "      <th>name</th>\n",
       "      <th>image_url</th>\n",
       "      <th>is_closed</th>\n",
       "      <th>url</th>\n",
       "      <th>review_count</th>\n",
       "      <th>categories</th>\n",
       "      <th>rating</th>\n",
       "      <th>coordinates</th>\n",
       "      <th>transactions</th>\n",
       "      <th>price</th>\n",
       "      <th>location</th>\n",
       "      <th>phone</th>\n",
       "      <th>display_phone</th>\n",
       "      <th>distance</th>\n",
       "    </tr>\n",
       "  </thead>\n",
       "  <tbody>\n",
       "    <tr>\n",
       "      <th>0</th>\n",
       "      <td>8YxcYrjTIEd42tqPlvfVvA</td>\n",
       "      <td>bennett-s-casual-dining-sherwood</td>\n",
       "      <td>Bennett’s Casual Dining</td>\n",
       "      <td>https://s3-media1.fl.yelpcdn.com/bphoto/6cPWBs...</td>\n",
       "      <td>False</td>\n",
       "      <td>https://www.yelp.com/biz/bennett-s-casual-dini...</td>\n",
       "      <td>49</td>\n",
       "      <td>[{'alias': 'tradamerican', 'title': 'American ...</td>\n",
       "      <td>5.0</td>\n",
       "      <td>{'latitude': 34.833261, 'longitude': -92.21143}</td>\n",
       "      <td>[]</td>\n",
       "      <td>$$</td>\n",
       "      <td>{'address1': '2001 E Keihl Ave', 'address2': N...</td>\n",
       "      <td>+15013928530</td>\n",
       "      <td>(501) 392-8530</td>\n",
       "      <td>16867.881317</td>\n",
       "    </tr>\n",
       "    <tr>\n",
       "      <th>1</th>\n",
       "      <td>eLb8InT22-y9bfTIW20tYw</td>\n",
       "      <td>kibbs-grand-bar-b-que-north-little-rock</td>\n",
       "      <td>Kibb's GRAND Bar B Que</td>\n",
       "      <td>https://s3-media1.fl.yelpcdn.com/bphoto/jaILkS...</td>\n",
       "      <td>False</td>\n",
       "      <td>https://www.yelp.com/biz/kibbs-grand-bar-b-que...</td>\n",
       "      <td>7</td>\n",
       "      <td>[{'alias': 'burgers', 'title': 'Burgers'}, {'a...</td>\n",
       "      <td>4.5</td>\n",
       "      <td>{'latitude': 34.74526, 'longitude': -92.19694}</td>\n",
       "      <td>[]</td>\n",
       "      <td>NaN</td>\n",
       "      <td>{'address1': '6230 Baucum Pike', 'address2': N...</td>\n",
       "      <td>+15019551110</td>\n",
       "      <td>(501) 955-1110</td>\n",
       "      <td>13181.825827</td>\n",
       "    </tr>\n",
       "  </tbody>\n",
       "</table>\n",
       "</div>"
      ],
      "text/plain": [
       "                       id                                    alias  \\\n",
       "0  8YxcYrjTIEd42tqPlvfVvA         bennett-s-casual-dining-sherwood   \n",
       "1  eLb8InT22-y9bfTIW20tYw  kibbs-grand-bar-b-que-north-little-rock   \n",
       "\n",
       "                       name  \\\n",
       "0  Bennett’s Casual Dining    \n",
       "1    Kibb's GRAND Bar B Que   \n",
       "\n",
       "                                           image_url  is_closed  \\\n",
       "0  https://s3-media1.fl.yelpcdn.com/bphoto/6cPWBs...      False   \n",
       "1  https://s3-media1.fl.yelpcdn.com/bphoto/jaILkS...      False   \n",
       "\n",
       "                                                 url  review_count  \\\n",
       "0  https://www.yelp.com/biz/bennett-s-casual-dini...            49   \n",
       "1  https://www.yelp.com/biz/kibbs-grand-bar-b-que...             7   \n",
       "\n",
       "                                          categories  rating  \\\n",
       "0  [{'alias': 'tradamerican', 'title': 'American ...     5.0   \n",
       "1  [{'alias': 'burgers', 'title': 'Burgers'}, {'a...     4.5   \n",
       "\n",
       "                                       coordinates transactions price  \\\n",
       "0  {'latitude': 34.833261, 'longitude': -92.21143}           []    $$   \n",
       "1   {'latitude': 34.74526, 'longitude': -92.19694}           []   NaN   \n",
       "\n",
       "                                            location         phone  \\\n",
       "0  {'address1': '2001 E Keihl Ave', 'address2': N...  +15013928530   \n",
       "1  {'address1': '6230 Baucum Pike', 'address2': N...  +15019551110   \n",
       "\n",
       "    display_phone      distance  \n",
       "0  (501) 392-8530  16867.881317  \n",
       "1  (501) 955-1110  13181.825827  "
      ]
     },
     "execution_count": 21,
     "metadata": {},
     "output_type": "execute_result"
    }
   ],
   "source": [
    "biz20 = pd.DataFrame(search_results['businesses'])\n",
    "biz20.head(2)"
   ]
  },
  {
   "cell_type": "code",
   "execution_count": 25,
   "id": "cf6869c1",
   "metadata": {
    "scrolled": true
   },
   "outputs": [
    {
     "data": {
      "text/html": [
       "<div>\n",
       "<style scoped>\n",
       "    .dataframe tbody tr th:only-of-type {\n",
       "        vertical-align: middle;\n",
       "    }\n",
       "\n",
       "    .dataframe tbody tr th {\n",
       "        vertical-align: top;\n",
       "    }\n",
       "\n",
       "    .dataframe thead th {\n",
       "        text-align: right;\n",
       "    }\n",
       "</style>\n",
       "<table border=\"1\" class=\"dataframe\">\n",
       "  <thead>\n",
       "    <tr style=\"text-align: right;\">\n",
       "      <th></th>\n",
       "      <th>id</th>\n",
       "      <th>alias</th>\n",
       "      <th>name</th>\n",
       "      <th>image_url</th>\n",
       "      <th>is_closed</th>\n",
       "      <th>url</th>\n",
       "      <th>review_count</th>\n",
       "      <th>categories</th>\n",
       "      <th>rating</th>\n",
       "      <th>coordinates</th>\n",
       "      <th>transactions</th>\n",
       "      <th>price</th>\n",
       "      <th>location</th>\n",
       "      <th>phone</th>\n",
       "      <th>display_phone</th>\n",
       "      <th>distance</th>\n",
       "    </tr>\n",
       "  </thead>\n",
       "  <tbody>\n",
       "    <tr>\n",
       "      <th>0</th>\n",
       "      <td>-ihewqJrusrWq9hj4jaIiA</td>\n",
       "      <td>big-orange-little-rock-2</td>\n",
       "      <td>Big Orange</td>\n",
       "      <td>https://s3-media2.fl.yelpcdn.com/bphoto/Ht_Yd_...</td>\n",
       "      <td>False</td>\n",
       "      <td>https://www.yelp.com/biz/big-orange-little-roc...</td>\n",
       "      <td>602</td>\n",
       "      <td>[{'alias': 'burgers', 'title': 'Burgers'}]</td>\n",
       "      <td>4.5</td>\n",
       "      <td>{'latitude': 34.7531331313556, 'longitude': -9...</td>\n",
       "      <td>[delivery]</td>\n",
       "      <td>$$</td>\n",
       "      <td>{'address1': '207 N University Ave', 'address2...</td>\n",
       "      <td>+15013798715</td>\n",
       "      <td>(501) 379-8715</td>\n",
       "      <td>3308.868005</td>\n",
       "    </tr>\n",
       "    <tr>\n",
       "      <th>1</th>\n",
       "      <td>hI0cnPhRvF5pVP3BEtecTg</td>\n",
       "      <td>davids-burgers-little-rock</td>\n",
       "      <td>David's Burgers</td>\n",
       "      <td>https://s3-media2.fl.yelpcdn.com/bphoto/eUn_Bg...</td>\n",
       "      <td>False</td>\n",
       "      <td>https://www.yelp.com/biz/davids-burgers-little...</td>\n",
       "      <td>195</td>\n",
       "      <td>[{'alias': 'burgers', 'title': 'Burgers'}]</td>\n",
       "      <td>4.5</td>\n",
       "      <td>{'latitude': 34.753454, 'longitude': -92.406499}</td>\n",
       "      <td>[delivery]</td>\n",
       "      <td>$$</td>\n",
       "      <td>{'address1': '101 S Bowman Rd', 'address2': ''...</td>\n",
       "      <td>+15012278333</td>\n",
       "      <td>(501) 227-8333</td>\n",
       "      <td>7038.847918</td>\n",
       "    </tr>\n",
       "    <tr>\n",
       "      <th>2</th>\n",
       "      <td>S3W6tw1i4jLLrmja_g1lzg</td>\n",
       "      <td>ye-pauls-soul-bodega-and-grill-little-rock-3</td>\n",
       "      <td>Ye Paul's Soul Bodega &amp; Grill</td>\n",
       "      <td>https://s3-media1.fl.yelpcdn.com/bphoto/gYtX9K...</td>\n",
       "      <td>False</td>\n",
       "      <td>https://www.yelp.com/biz/ye-pauls-soul-bodega-...</td>\n",
       "      <td>38</td>\n",
       "      <td>[{'alias': 'burgers', 'title': 'Burgers'}, {'a...</td>\n",
       "      <td>5.0</td>\n",
       "      <td>{'latitude': 34.70749987605255, 'longitude': -...</td>\n",
       "      <td>[pickup, delivery]</td>\n",
       "      <td>NaN</td>\n",
       "      <td>{'address1': '4424 Frazier Pike', 'address2': ...</td>\n",
       "      <td>+15017471551</td>\n",
       "      <td>(501) 747-1551</td>\n",
       "      <td>10545.103583</td>\n",
       "    </tr>\n",
       "  </tbody>\n",
       "</table>\n",
       "</div>"
      ],
      "text/plain": [
       "                       id                                         alias  \\\n",
       "0  -ihewqJrusrWq9hj4jaIiA                      big-orange-little-rock-2   \n",
       "1  hI0cnPhRvF5pVP3BEtecTg                    davids-burgers-little-rock   \n",
       "2  S3W6tw1i4jLLrmja_g1lzg  ye-pauls-soul-bodega-and-grill-little-rock-3   \n",
       "\n",
       "                            name  \\\n",
       "0                     Big Orange   \n",
       "1                David's Burgers   \n",
       "2  Ye Paul's Soul Bodega & Grill   \n",
       "\n",
       "                                           image_url  is_closed  \\\n",
       "0  https://s3-media2.fl.yelpcdn.com/bphoto/Ht_Yd_...      False   \n",
       "1  https://s3-media2.fl.yelpcdn.com/bphoto/eUn_Bg...      False   \n",
       "2  https://s3-media1.fl.yelpcdn.com/bphoto/gYtX9K...      False   \n",
       "\n",
       "                                                 url  review_count  \\\n",
       "0  https://www.yelp.com/biz/big-orange-little-roc...           602   \n",
       "1  https://www.yelp.com/biz/davids-burgers-little...           195   \n",
       "2  https://www.yelp.com/biz/ye-pauls-soul-bodega-...            38   \n",
       "\n",
       "                                          categories  rating  \\\n",
       "0         [{'alias': 'burgers', 'title': 'Burgers'}]     4.5   \n",
       "1         [{'alias': 'burgers', 'title': 'Burgers'}]     4.5   \n",
       "2  [{'alias': 'burgers', 'title': 'Burgers'}, {'a...     5.0   \n",
       "\n",
       "                                         coordinates        transactions  \\\n",
       "0  {'latitude': 34.7531331313556, 'longitude': -9...          [delivery]   \n",
       "1   {'latitude': 34.753454, 'longitude': -92.406499}          [delivery]   \n",
       "2  {'latitude': 34.70749987605255, 'longitude': -...  [pickup, delivery]   \n",
       "\n",
       "  price                                           location         phone  \\\n",
       "0    $$  {'address1': '207 N University Ave', 'address2...  +15013798715   \n",
       "1    $$  {'address1': '101 S Bowman Rd', 'address2': ''...  +15012278333   \n",
       "2   NaN  {'address1': '4424 Frazier Pike', 'address2': ...  +15017471551   \n",
       "\n",
       "    display_phone      distance  \n",
       "0  (501) 379-8715   3308.868005  \n",
       "1  (501) 227-8333   7038.847918  \n",
       "2  (501) 747-1551  10545.103583  "
      ]
     },
     "metadata": {},
     "output_type": "display_data"
    },
    {
     "data": {
      "text/html": [
       "<div>\n",
       "<style scoped>\n",
       "    .dataframe tbody tr th:only-of-type {\n",
       "        vertical-align: middle;\n",
       "    }\n",
       "\n",
       "    .dataframe tbody tr th {\n",
       "        vertical-align: top;\n",
       "    }\n",
       "\n",
       "    .dataframe thead th {\n",
       "        text-align: right;\n",
       "    }\n",
       "</style>\n",
       "<table border=\"1\" class=\"dataframe\">\n",
       "  <thead>\n",
       "    <tr style=\"text-align: right;\">\n",
       "      <th></th>\n",
       "      <th>id</th>\n",
       "      <th>alias</th>\n",
       "      <th>name</th>\n",
       "      <th>image_url</th>\n",
       "      <th>is_closed</th>\n",
       "      <th>url</th>\n",
       "      <th>review_count</th>\n",
       "      <th>categories</th>\n",
       "      <th>rating</th>\n",
       "      <th>coordinates</th>\n",
       "      <th>transactions</th>\n",
       "      <th>price</th>\n",
       "      <th>location</th>\n",
       "      <th>phone</th>\n",
       "      <th>display_phone</th>\n",
       "      <th>distance</th>\n",
       "    </tr>\n",
       "  </thead>\n",
       "  <tbody>\n",
       "    <tr>\n",
       "      <th>37</th>\n",
       "      <td>X5m1WEx7wVuugfbyBblRig</td>\n",
       "      <td>david-s-burgers-bryant</td>\n",
       "      <td>David’s Burgers</td>\n",
       "      <td>https://s3-media1.fl.yelpcdn.com/bphoto/bQyBtL...</td>\n",
       "      <td>False</td>\n",
       "      <td>https://www.yelp.com/biz/david-s-burgers-bryan...</td>\n",
       "      <td>40</td>\n",
       "      <td>[{'alias': 'burgers', 'title': 'Burgers'}]</td>\n",
       "      <td>4.5</td>\n",
       "      <td>{'latitude': 34.6187145259429, 'longitude': -9...</td>\n",
       "      <td>[delivery]</td>\n",
       "      <td>NaN</td>\n",
       "      <td>{'address1': '23140 I-30 N', 'address2': '', '...</td>\n",
       "      <td>+15014877024</td>\n",
       "      <td>(501) 487-7024</td>\n",
       "      <td>18786.507906</td>\n",
       "    </tr>\n",
       "    <tr>\n",
       "      <th>38</th>\n",
       "      <td>kWTzJBz6Tz4gTevi7oUvxA</td>\n",
       "      <td>the-purple-cow-restaurant-little-rock-2</td>\n",
       "      <td>The Purple Cow Restaurant</td>\n",
       "      <td>https://s3-media4.fl.yelpcdn.com/bphoto/NXSM1g...</td>\n",
       "      <td>False</td>\n",
       "      <td>https://www.yelp.com/biz/the-purple-cow-restau...</td>\n",
       "      <td>91</td>\n",
       "      <td>[{'alias': 'diners', 'title': 'Diners'}, {'ali...</td>\n",
       "      <td>3.5</td>\n",
       "      <td>{'latitude': 34.77681, 'longitude': -92.36366}</td>\n",
       "      <td>[delivery]</td>\n",
       "      <td>$</td>\n",
       "      <td>{'address1': '8026 Cantrell Rd', 'address2': '...</td>\n",
       "      <td>+15012213555</td>\n",
       "      <td>(501) 221-3555</td>\n",
       "      <td>6363.772213</td>\n",
       "    </tr>\n",
       "    <tr>\n",
       "      <th>39</th>\n",
       "      <td>P4anthsh5TWeh_5_ttDDfQ</td>\n",
       "      <td>mama-bs-take-out-little-rock</td>\n",
       "      <td>Mama B's Take Out</td>\n",
       "      <td>https://s3-media4.fl.yelpcdn.com/bphoto/fVe7Kv...</td>\n",
       "      <td>False</td>\n",
       "      <td>https://www.yelp.com/biz/mama-bs-take-out-litt...</td>\n",
       "      <td>1</td>\n",
       "      <td>[{'alias': 'chicken_wings', 'title': 'Chicken ...</td>\n",
       "      <td>4.0</td>\n",
       "      <td>{'latitude': 34.7371180995895, 'longitude': -9...</td>\n",
       "      <td>[]</td>\n",
       "      <td>NaN</td>\n",
       "      <td>{'address1': '1235 W Daisy L Gatson Bates Dr',...</td>\n",
       "      <td>+15017771126</td>\n",
       "      <td>(501) 777-1126</td>\n",
       "      <td>5025.076427</td>\n",
       "    </tr>\n",
       "  </tbody>\n",
       "</table>\n",
       "</div>"
      ],
      "text/plain": [
       "                        id                                    alias  \\\n",
       "37  X5m1WEx7wVuugfbyBblRig                   david-s-burgers-bryant   \n",
       "38  kWTzJBz6Tz4gTevi7oUvxA  the-purple-cow-restaurant-little-rock-2   \n",
       "39  P4anthsh5TWeh_5_ttDDfQ             mama-bs-take-out-little-rock   \n",
       "\n",
       "                         name  \\\n",
       "37            David’s Burgers   \n",
       "38  The Purple Cow Restaurant   \n",
       "39          Mama B's Take Out   \n",
       "\n",
       "                                            image_url  is_closed  \\\n",
       "37  https://s3-media1.fl.yelpcdn.com/bphoto/bQyBtL...      False   \n",
       "38  https://s3-media4.fl.yelpcdn.com/bphoto/NXSM1g...      False   \n",
       "39  https://s3-media4.fl.yelpcdn.com/bphoto/fVe7Kv...      False   \n",
       "\n",
       "                                                  url  review_count  \\\n",
       "37  https://www.yelp.com/biz/david-s-burgers-bryan...            40   \n",
       "38  https://www.yelp.com/biz/the-purple-cow-restau...            91   \n",
       "39  https://www.yelp.com/biz/mama-bs-take-out-litt...             1   \n",
       "\n",
       "                                           categories  rating  \\\n",
       "37         [{'alias': 'burgers', 'title': 'Burgers'}]     4.5   \n",
       "38  [{'alias': 'diners', 'title': 'Diners'}, {'ali...     3.5   \n",
       "39  [{'alias': 'chicken_wings', 'title': 'Chicken ...     4.0   \n",
       "\n",
       "                                          coordinates transactions price  \\\n",
       "37  {'latitude': 34.6187145259429, 'longitude': -9...   [delivery]   NaN   \n",
       "38     {'latitude': 34.77681, 'longitude': -92.36366}   [delivery]     $   \n",
       "39  {'latitude': 34.7371180995895, 'longitude': -9...           []   NaN   \n",
       "\n",
       "                                             location         phone  \\\n",
       "37  {'address1': '23140 I-30 N', 'address2': '', '...  +15014877024   \n",
       "38  {'address1': '8026 Cantrell Rd', 'address2': '...  +15012213555   \n",
       "39  {'address1': '1235 W Daisy L Gatson Bates Dr',...  +15017771126   \n",
       "\n",
       "     display_phone      distance  \n",
       "37  (501) 487-7024  18786.507906  \n",
       "38  (501) 221-3555   6363.772213  \n",
       "39  (501) 777-1126   5025.076427  "
      ]
     },
     "metadata": {},
     "output_type": "display_data"
    }
   ],
   "source": [
    "## concatenate the previous results and new results. \n",
    "businesses = pd.concat([biz, biz20],\n",
    "                      ignore_index=True)\n",
    "display(businesses.head(3), businesses.tail(3))"
   ]
  },
  {
   "cell_type": "code",
   "execution_count": 24,
   "id": "c1baee11",
   "metadata": {},
   "outputs": [
    {
     "data": {
      "text/plain": [
       "(40, 16)"
      ]
     },
     "execution_count": 24,
     "metadata": {},
     "output_type": "execute_result"
    }
   ],
   "source": [
    "businesses.shape"
   ]
  }
 ],
 "metadata": {
  "kernelspec": {
   "display_name": "Python 3 (ipykernel)",
   "language": "python",
   "name": "python3"
  },
  "language_info": {
   "codemirror_mode": {
    "name": "ipython",
    "version": 3
   },
   "file_extension": ".py",
   "mimetype": "text/x-python",
   "name": "python",
   "nbconvert_exporter": "python",
   "pygments_lexer": "ipython3",
   "version": "3.9.15"
  },
  "toc": {
   "base_numbering": 1,
   "nav_menu": {},
   "number_sections": false,
   "sideBar": true,
   "skip_h1_title": false,
   "title_cell": "Table of Contents",
   "title_sidebar": "Contents",
   "toc_cell": false,
   "toc_position": {},
   "toc_section_display": true,
   "toc_window_display": false
  }
 },
 "nbformat": 4,
 "nbformat_minor": 5
}
