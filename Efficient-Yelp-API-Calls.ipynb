{
 "cells": [
  {
   "cell_type": "code",
   "execution_count": 1,
   "id": "13c39808",
   "metadata": {},
   "outputs": [],
   "source": [
    "#Run this if you get an error of no yelpapi existing\n",
    "#!pip install yelpapi\n",
    "#Run this if you don't have tqdm installed\n",
    "#!pip install tqdm"
   ]
  },
  {
   "cell_type": "code",
   "execution_count": 2,
   "id": "70545878",
   "metadata": {},
   "outputs": [],
   "source": [
    "# Standard Imports\n",
    "import numpy as np\n",
    "import pandas as pd\n",
    "import matplotlib.pyplot as plt\n",
    "import seaborn as sns\n",
    "# Additional Imports\n",
    "import os, json, math, time\n",
    "from yelpapi import YelpAPI\n",
    "from tqdm.notebook import tqdm_notebook"
   ]
  },
  {
   "cell_type": "code",
   "execution_count": 3,
   "id": "57a1668f",
   "metadata": {},
   "outputs": [
    {
     "data": {
      "text/plain": [
       "dict_keys(['client-id', 'api-key'])"
      ]
     },
     "execution_count": 3,
     "metadata": {},
     "output_type": "execute_result"
    }
   ],
   "source": [
    "with open('/Users/joseph/.secret/yelp_api.json') as f: #change the path to match YOUR path!!\n",
    "    login = json.load(f)\n",
    "login.keys()"
   ]
  },
  {
   "cell_type": "code",
   "execution_count": 4,
   "id": "795c4097",
   "metadata": {},
   "outputs": [
    {
     "data": {
      "text/plain": [
       "<yelpapi.yelpapi.YelpAPI at 0x17e64f8b0>"
      ]
     },
     "execution_count": 4,
     "metadata": {},
     "output_type": "execute_result"
    }
   ],
   "source": [
    "yelp_api = YelpAPI(login['api-key'], timeout_s=5.0)\n",
    "yelp_api"
   ]
  },
  {
   "cell_type": "code",
   "execution_count": 5,
   "id": "a3ab5e75",
   "metadata": {
    "scrolled": true
   },
   "outputs": [
    {
     "name": "stdout",
     "output_type": "stream",
     "text": [
      "Help on method search_query in module yelpapi.yelpapi:\n",
      "\n",
      "search_query(**kwargs) method of yelpapi.yelpapi.YelpAPI instance\n",
      "    Query the Yelp Search API.\n",
      "    \n",
      "    documentation: https://www.yelp.com/developers/documentation/v3/business_search\n",
      "    \n",
      "    required parameters:\n",
      "        * one of either:\n",
      "            * location - text specifying a location to search for\n",
      "            * latitude and longitude\n",
      "\n"
     ]
    }
   ],
   "source": [
    "help(yelp_api.search_query)"
   ]
  },
  {
   "cell_type": "code",
   "execution_count": 6,
   "id": "0afa8e72",
   "metadata": {
    "scrolled": true
   },
   "outputs": [
    {
     "name": "stdout",
     "output_type": "stream",
     "text": [
      "<class 'dict'>\n"
     ]
    },
    {
     "data": {
      "text/plain": [
       "dict_keys(['businesses', 'total', 'region'])"
      ]
     },
     "execution_count": 6,
     "metadata": {},
     "output_type": "execute_result"
    }
   ],
   "source": [
    "# use our yelp_api variable's search_query method to perform our API call\n",
    "LOCATION = \"Little Rock, AR\"\n",
    "TERM = \"burger\"\n",
    "search_results = yelp_api.search_query(location = LOCATION,\n",
    "                                       term = TERM)\n",
    "print(type(search_results))\n",
    "search_results.keys()"
   ]
  },
  {
   "cell_type": "code",
   "execution_count": 7,
   "id": "0cefc3c8",
   "metadata": {},
   "outputs": [
    {
     "data": {
      "text/plain": [
       "'Data/results_in_progress_Little Rock, AR_burger.json'"
      ]
     },
     "execution_count": 7,
     "metadata": {},
     "output_type": "execute_result"
    }
   ],
   "source": [
    "# Specifying JSON_FILE filename (can include a folder)\n",
    "# include the search terms in the filename\n",
    "JSON_FILE = f\"Data/results_in_progress_{LOCATION}_{TERM}.json\"\n",
    "JSON_FILE"
   ]
  },
  {
   "cell_type": "code",
   "execution_count": 8,
   "id": "c302db4b",
   "metadata": {},
   "outputs": [
    {
     "name": "stdout",
     "output_type": "stream",
     "text": [
      "[i] Data/results_in_progress_Little Rock, AR_burger.json not found. Saving empty list to file.\n"
     ]
    }
   ],
   "source": [
    "## Check if JSON_FILE exists\n",
    "file_exists = os.path.isfile(JSON_FILE)\n",
    "## If it does not exist: \n",
    "if file_exists == False:\n",
    "    \n",
    "    ## CREATE ANY NEEDED FOLDERS\n",
    "    # Get the Folder Name only\n",
    "    folder = os.path.dirname(JSON_FILE)\n",
    "    ## If JSON_FILE included a folder:\n",
    "    if len(folder)>0:\n",
    "        # create the folder\n",
    "        os.makedirs(folder,exist_ok=True)\n",
    "        \n",
    "        \n",
    "    ## INFORM USER AND SAVE EMPTY LIST\n",
    "    print(f'[i] {JSON_FILE} not found. Saving empty list to file.')\n",
    "    \n",
    "    \n",
    "    # save an empty list\n",
    "    with open(JSON_FILE,'w') as f:\n",
    "        json.dump([],f)  \n",
    "# If it exists, inform user\n",
    "else:\n",
    "    print(f\"[i] {JSON_FILE} already exists.\")\n"
   ]
  },
  {
   "cell_type": "code",
   "execution_count": 9,
   "id": "2174296d",
   "metadata": {},
   "outputs": [
    {
     "name": "stdout",
     "output_type": "stream",
     "text": [
      "- 0 previous results found.\n"
     ]
    }
   ],
   "source": [
    "## Load previous results and use len of results for offset\n",
    "with open(JSON_FILE,'r') as f:\n",
    "    previous_results = json.load(f)\n",
    "    \n",
    "## set offset based on previous results\n",
    "n_results = len(previous_results)\n",
    "print(f'- {n_results} previous results found.')"
   ]
  },
  {
   "cell_type": "code",
   "execution_count": 10,
   "id": "aeb91252",
   "metadata": {},
   "outputs": [
    {
     "data": {
      "text/plain": [
       "dict_keys(['businesses', 'total', 'region'])"
      ]
     },
     "execution_count": 10,
     "metadata": {},
     "output_type": "execute_result"
    }
   ],
   "source": [
    "# use our yelp_api variable's search_query method to perform our API call\n",
    "results = yelp_api.search_query(location=LOCATION,\n",
    "                                term=TERM,\n",
    "                               offset=n_results)\n",
    "results.keys()"
   ]
  },
  {
   "cell_type": "code",
   "execution_count": 11,
   "id": "115cfa26",
   "metadata": {},
   "outputs": [
    {
     "data": {
      "text/plain": [
       "420"
      ]
     },
     "execution_count": 11,
     "metadata": {},
     "output_type": "execute_result"
    }
   ],
   "source": [
    "## How many results total?\n",
    "total_results = results['total']\n",
    "total_results"
   ]
  },
  {
   "cell_type": "code",
   "execution_count": 12,
   "id": "8c1c8f78",
   "metadata": {},
   "outputs": [
    {
     "data": {
      "text/plain": [
       "20"
      ]
     },
     "execution_count": 12,
     "metadata": {},
     "output_type": "execute_result"
    }
   ],
   "source": [
    "## How many did we get the details for?\n",
    "results_per_page = len(results['businesses'])\n",
    "results_per_page"
   ]
  },
  {
   "cell_type": "code",
   "execution_count": 13,
   "id": "eb8d2e69",
   "metadata": {},
   "outputs": [
    {
     "data": {
      "text/plain": [
       "21"
      ]
     },
     "execution_count": 13,
     "metadata": {},
     "output_type": "execute_result"
    }
   ],
   "source": [
    "n_pages = math.ceil((results['total']-n_results)/ results_per_page)\n",
    "n_pages"
   ]
  },
  {
   "cell_type": "code",
   "execution_count": 14,
   "id": "d2be5f0c",
   "metadata": {},
   "outputs": [],
   "source": [
    "# join new results with old list with extend and save to file\n",
    "previous_results.extend(results['businesses'])  \n",
    "with open(JSON_FILE,'w') as f:\n",
    "     json.dump(previous_results,f)"
   ]
  },
  {
   "cell_type": "code",
   "execution_count": 15,
   "id": "3d6af883",
   "metadata": {},
   "outputs": [
    {
     "data": {
      "application/vnd.jupyter.widget-view+json": {
       "model_id": "7c0e7ad0ca0949a7a919bbf419cb00fd",
       "version_major": 2,
       "version_minor": 0
      },
      "text/plain": [
       "  0%|          | 0/21 [00:00<?, ?it/s]"
      ]
     },
     "metadata": {},
     "output_type": "display_data"
    }
   ],
   "source": [
    "for i in tqdm_notebook(range(n_pages)):\n",
    "    # adds 200 ms pause\n",
    "    time.sleep(.2) "
   ]
  },
  {
   "cell_type": "code",
   "execution_count": 16,
   "id": "991cbb8d",
   "metadata": {},
   "outputs": [
    {
     "data": {
      "application/vnd.jupyter.widget-view+json": {
       "model_id": "1a056f490c354f9b83b21e642d1b0795",
       "version_major": 2,
       "version_minor": 0
      },
      "text/plain": [
       "  0%|          | 0/21 [00:00<?, ?it/s]"
      ]
     },
     "metadata": {},
     "output_type": "display_data"
    }
   ],
   "source": [
    "for i in tqdm_notebook( range(1,n_pages+1)):\n",
    "    \n",
    "    ## Read in results in progress file and check the length\n",
    "    with open(JSON_FILE, 'r') as f:\n",
    "        previous_results = json.load(f)\n",
    "    ## save number of results for to use as offset\n",
    "    n_results = len(previous_results)\n",
    "    ## use n_results as the OFFSET \n",
    "    results = yelp_api.search_query(location=LOCATION,\n",
    "                                    term=TERM, \n",
    "                                    offset=n_results)\n",
    "    \n",
    "    ## append new results and save to file\n",
    "    previous_results.extend(results['businesses'])\n",
    "    \n",
    "    with open(JSON_FILE,'w') as f:\n",
    "        json.dump(previous_results,f)\n",
    "    \n",
    "    # add a 200ms pause\n",
    "    time.sleep(.2)"
   ]
  },
  {
   "cell_type": "code",
   "execution_count": 17,
   "id": "e2d7bd3d",
   "metadata": {},
   "outputs": [],
   "source": [
    "def create_json_file(JSON_FILE, delete_if_exists = False):\n",
    "    ##Checking if JSON_FILE exists\n",
    "    file_exists = os.path.isfile(JSON_FILE)\n",
    "    ##If exists:\n",
    "    if file_exists == True:\n",
    "        if delete_if_exists == True:\n",
    "            print(f\"[!] {JSON_FILE} already exists. Deleting previous file...\")\n",
    "            #delete file\n",
    "            os.remove(JSON_FILE)\n",
    "            #Recursive call to function after old file is deleted\n",
    "            create_json_file(JSON_FILE, delete_if_exists = False)\n",
    "        else:\n",
    "            print(f\"[i] {JSON_FILE} not found. Saving empty list to new file.\")\n",
    "    ## If it does not exist\n",
    "    else:\n",
    "        print(f\"[i] {JSON_FILE} not found. Saving empty list to new file.\")\n",
    "        #Creating any needed folders\n",
    "        #Get the Folder Name only\n",
    "        folder = os.path.dirname(JSON_FILE)\n",
    "        # If JSON_FILE included a folder:\n",
    "        if len(folder) > 0:\n",
    "            #Make a folder\n",
    "            os.makedirs(folder, exist_ok = True)\n",
    "        #Save empty list to start the json file\n",
    "        with open(JSON_FILE, \"w\") as f:\n",
    "            json.dump([],f)"
   ]
  },
  {
   "cell_type": "code",
   "execution_count": 18,
   "id": "5f150df4",
   "metadata": {},
   "outputs": [
    {
     "name": "stdout",
     "output_type": "stream",
     "text": [
      "[!] Data/results_in_progress_Little Rock, AR_burger.json already exists. Deleting previous file...\n",
      "[i] Data/results_in_progress_Little Rock, AR_burger.json not found. Saving empty list to new file.\n",
      "- 0 previous results found.\n"
     ]
    },
    {
     "data": {
      "text/plain": [
       "21"
      ]
     },
     "execution_count": 18,
     "metadata": {},
     "output_type": "execute_result"
    }
   ],
   "source": [
    "## Create a new empty json file (exist the previous if it exists)\n",
    "create_json_file(JSON_FILE, delete_if_exists=True)\n",
    "## Load previous results and use len of results for offset\n",
    "with open(JSON_FILE,'r') as f:\n",
    "    previous_results = json.load(f)\n",
    "    \n",
    "## set offset based on previous results\n",
    "n_results = len(previous_results)\n",
    "print(f'- {n_results} previous results found.')\n",
    "# use our yelp_api variable's search_query method to perform our API call\n",
    "results = yelp_api.search_query(location=LOCATION,\n",
    "                                term=TERM,\n",
    "                               offset=n_results)\n",
    "## How many results total?\n",
    "total_results = results['total']\n",
    "## How many did we get the details for?\n",
    "results_per_page = len(results['businesses'])\n",
    "# Use math.ceil to round up for the total number of pages of results.\n",
    "n_pages = math.ceil((results['total']-n_results)/ results_per_page)\n",
    "n_pages"
   ]
  },
  {
   "cell_type": "code",
   "execution_count": 19,
   "id": "c80b720e",
   "metadata": {},
   "outputs": [
    {
     "data": {
      "application/vnd.jupyter.widget-view+json": {
       "model_id": "c7fef740edee40f3aa27cc0e93109fa6",
       "version_major": 2,
       "version_minor": 0
      },
      "text/plain": [
       "  0%|          | 0/21 [00:00<?, ?it/s]"
      ]
     },
     "metadata": {},
     "output_type": "display_data"
    }
   ],
   "source": [
    "for i in tqdm_notebook( range(1,n_pages+1)):\n",
    "    \n",
    "    ## Read in results in progress file and check the length\n",
    "    with open(JSON_FILE, 'r') as f:\n",
    "        previous_results = json.load(f)\n",
    "    ## save number of results for to use as offset\n",
    "    n_results = len(previous_results)\n",
    "    \n",
    "    if (n_results + results_per_page) > 1000:\n",
    "        print('Exceeded 1000 api calls. Stopping loop.')\n",
    "        break\n",
    "    \n",
    "    ## use n_results as the OFFSET \n",
    "    results = yelp_api.search_query(location=LOCATION,\n",
    "                                    term=TERM, \n",
    "                                    offset=n_results)\n",
    "    \n",
    "    \n",
    "    \n",
    "    ## append new results and save to file\n",
    "    previous_results.extend(results['businesses'])\n",
    "    \n",
    "    # display(previous_results)\n",
    "    with open(JSON_FILE,'w') as f:\n",
    "        json.dump(previous_results,f)\n",
    "    \n",
    "    time.sleep(.2)\n",
    "\n"
   ]
  },
  {
   "cell_type": "code",
   "execution_count": 20,
   "id": "faeec608",
   "metadata": {
    "scrolled": false
   },
   "outputs": [
    {
     "data": {
      "text/html": [
       "<div>\n",
       "<style scoped>\n",
       "    .dataframe tbody tr th:only-of-type {\n",
       "        vertical-align: middle;\n",
       "    }\n",
       "\n",
       "    .dataframe tbody tr th {\n",
       "        vertical-align: top;\n",
       "    }\n",
       "\n",
       "    .dataframe thead th {\n",
       "        text-align: right;\n",
       "    }\n",
       "</style>\n",
       "<table border=\"1\" class=\"dataframe\">\n",
       "  <thead>\n",
       "    <tr style=\"text-align: right;\">\n",
       "      <th></th>\n",
       "      <th>id</th>\n",
       "      <th>alias</th>\n",
       "      <th>name</th>\n",
       "      <th>image_url</th>\n",
       "      <th>is_closed</th>\n",
       "      <th>url</th>\n",
       "      <th>review_count</th>\n",
       "      <th>categories</th>\n",
       "      <th>rating</th>\n",
       "      <th>coordinates</th>\n",
       "      <th>transactions</th>\n",
       "      <th>price</th>\n",
       "      <th>location</th>\n",
       "      <th>phone</th>\n",
       "      <th>display_phone</th>\n",
       "      <th>distance</th>\n",
       "    </tr>\n",
       "  </thead>\n",
       "  <tbody>\n",
       "    <tr>\n",
       "      <th>0</th>\n",
       "      <td>-ihewqJrusrWq9hj4jaIiA</td>\n",
       "      <td>big-orange-little-rock-2</td>\n",
       "      <td>Big Orange</td>\n",
       "      <td>https://s3-media2.fl.yelpcdn.com/bphoto/Ht_Yd_...</td>\n",
       "      <td>False</td>\n",
       "      <td>https://www.yelp.com/biz/big-orange-little-roc...</td>\n",
       "      <td>602</td>\n",
       "      <td>[{'alias': 'burgers', 'title': 'Burgers'}]</td>\n",
       "      <td>4.5</td>\n",
       "      <td>{'latitude': 34.7531331313556, 'longitude': -9...</td>\n",
       "      <td>[delivery]</td>\n",
       "      <td>$$</td>\n",
       "      <td>{'address1': '207 N University Ave', 'address2...</td>\n",
       "      <td>+15013798715</td>\n",
       "      <td>(501) 379-8715</td>\n",
       "      <td>3308.868005</td>\n",
       "    </tr>\n",
       "    <tr>\n",
       "      <th>1</th>\n",
       "      <td>hI0cnPhRvF5pVP3BEtecTg</td>\n",
       "      <td>davids-burgers-little-rock</td>\n",
       "      <td>David's Burgers</td>\n",
       "      <td>https://s3-media2.fl.yelpcdn.com/bphoto/eUn_Bg...</td>\n",
       "      <td>False</td>\n",
       "      <td>https://www.yelp.com/biz/davids-burgers-little...</td>\n",
       "      <td>195</td>\n",
       "      <td>[{'alias': 'burgers', 'title': 'Burgers'}]</td>\n",
       "      <td>4.5</td>\n",
       "      <td>{'latitude': 34.753454, 'longitude': -92.406499}</td>\n",
       "      <td>[delivery]</td>\n",
       "      <td>$$</td>\n",
       "      <td>{'address1': '101 S Bowman Rd', 'address2': ''...</td>\n",
       "      <td>+15012278333</td>\n",
       "      <td>(501) 227-8333</td>\n",
       "      <td>7038.847918</td>\n",
       "    </tr>\n",
       "    <tr>\n",
       "      <th>2</th>\n",
       "      <td>S3W6tw1i4jLLrmja_g1lzg</td>\n",
       "      <td>ye-pauls-soul-bodega-and-grill-little-rock-3</td>\n",
       "      <td>Ye Paul's Soul Bodega &amp; Grill</td>\n",
       "      <td>https://s3-media1.fl.yelpcdn.com/bphoto/gYtX9K...</td>\n",
       "      <td>False</td>\n",
       "      <td>https://www.yelp.com/biz/ye-pauls-soul-bodega-...</td>\n",
       "      <td>38</td>\n",
       "      <td>[{'alias': 'burgers', 'title': 'Burgers'}, {'a...</td>\n",
       "      <td>5.0</td>\n",
       "      <td>{'latitude': 34.70749987605255, 'longitude': -...</td>\n",
       "      <td>[pickup, delivery]</td>\n",
       "      <td>NaN</td>\n",
       "      <td>{'address1': '4424 Frazier Pike', 'address2': ...</td>\n",
       "      <td>+15017471551</td>\n",
       "      <td>(501) 747-1551</td>\n",
       "      <td>10545.103583</td>\n",
       "    </tr>\n",
       "    <tr>\n",
       "      <th>3</th>\n",
       "      <td>vDmRK_D_GbKo58D2SJoWdg</td>\n",
       "      <td>north-bar-north-little-rock-2</td>\n",
       "      <td>North Bar</td>\n",
       "      <td>https://s3-media3.fl.yelpcdn.com/bphoto/-i-SL1...</td>\n",
       "      <td>False</td>\n",
       "      <td>https://www.yelp.com/biz/north-bar-north-littl...</td>\n",
       "      <td>186</td>\n",
       "      <td>[{'alias': 'tradamerican', 'title': 'American ...</td>\n",
       "      <td>4.5</td>\n",
       "      <td>{'latitude': 34.7906015, 'longitude': -92.2595...</td>\n",
       "      <td>[delivery]</td>\n",
       "      <td>$$</td>\n",
       "      <td>{'address1': '3812 Jfk Blvd', 'address2': None...</td>\n",
       "      <td>+15014201117</td>\n",
       "      <td>(501) 420-1117</td>\n",
       "      <td>10403.242520</td>\n",
       "    </tr>\n",
       "    <tr>\n",
       "      <th>4</th>\n",
       "      <td>SunfITwfSe2KqAFHbYJDlQ</td>\n",
       "      <td>wayback-burgers-little-rock</td>\n",
       "      <td>Wayback Burgers</td>\n",
       "      <td>https://s3-media1.fl.yelpcdn.com/bphoto/BWAwRm...</td>\n",
       "      <td>False</td>\n",
       "      <td>https://www.yelp.com/biz/wayback-burgers-littl...</td>\n",
       "      <td>41</td>\n",
       "      <td>[{'alias': 'burgers', 'title': 'Burgers'}]</td>\n",
       "      <td>4.0</td>\n",
       "      <td>{'latitude': 34.7594396, 'longitude': -92.453074}</td>\n",
       "      <td>[pickup, delivery]</td>\n",
       "      <td>$$</td>\n",
       "      <td>{'address1': '16900 Chenal Pkwy', 'address2': ...</td>\n",
       "      <td>+15014045858</td>\n",
       "      <td>(501) 404-5858</td>\n",
       "      <td>11100.640460</td>\n",
       "    </tr>\n",
       "  </tbody>\n",
       "</table>\n",
       "</div>"
      ],
      "text/plain": [
       "                       id                                         alias  \\\n",
       "0  -ihewqJrusrWq9hj4jaIiA                      big-orange-little-rock-2   \n",
       "1  hI0cnPhRvF5pVP3BEtecTg                    davids-burgers-little-rock   \n",
       "2  S3W6tw1i4jLLrmja_g1lzg  ye-pauls-soul-bodega-and-grill-little-rock-3   \n",
       "3  vDmRK_D_GbKo58D2SJoWdg                 north-bar-north-little-rock-2   \n",
       "4  SunfITwfSe2KqAFHbYJDlQ                   wayback-burgers-little-rock   \n",
       "\n",
       "                            name  \\\n",
       "0                     Big Orange   \n",
       "1                David's Burgers   \n",
       "2  Ye Paul's Soul Bodega & Grill   \n",
       "3                      North Bar   \n",
       "4                Wayback Burgers   \n",
       "\n",
       "                                           image_url  is_closed  \\\n",
       "0  https://s3-media2.fl.yelpcdn.com/bphoto/Ht_Yd_...      False   \n",
       "1  https://s3-media2.fl.yelpcdn.com/bphoto/eUn_Bg...      False   \n",
       "2  https://s3-media1.fl.yelpcdn.com/bphoto/gYtX9K...      False   \n",
       "3  https://s3-media3.fl.yelpcdn.com/bphoto/-i-SL1...      False   \n",
       "4  https://s3-media1.fl.yelpcdn.com/bphoto/BWAwRm...      False   \n",
       "\n",
       "                                                 url  review_count  \\\n",
       "0  https://www.yelp.com/biz/big-orange-little-roc...           602   \n",
       "1  https://www.yelp.com/biz/davids-burgers-little...           195   \n",
       "2  https://www.yelp.com/biz/ye-pauls-soul-bodega-...            38   \n",
       "3  https://www.yelp.com/biz/north-bar-north-littl...           186   \n",
       "4  https://www.yelp.com/biz/wayback-burgers-littl...            41   \n",
       "\n",
       "                                          categories  rating  \\\n",
       "0         [{'alias': 'burgers', 'title': 'Burgers'}]     4.5   \n",
       "1         [{'alias': 'burgers', 'title': 'Burgers'}]     4.5   \n",
       "2  [{'alias': 'burgers', 'title': 'Burgers'}, {'a...     5.0   \n",
       "3  [{'alias': 'tradamerican', 'title': 'American ...     4.5   \n",
       "4         [{'alias': 'burgers', 'title': 'Burgers'}]     4.0   \n",
       "\n",
       "                                         coordinates        transactions  \\\n",
       "0  {'latitude': 34.7531331313556, 'longitude': -9...          [delivery]   \n",
       "1   {'latitude': 34.753454, 'longitude': -92.406499}          [delivery]   \n",
       "2  {'latitude': 34.70749987605255, 'longitude': -...  [pickup, delivery]   \n",
       "3  {'latitude': 34.7906015, 'longitude': -92.2595...          [delivery]   \n",
       "4  {'latitude': 34.7594396, 'longitude': -92.453074}  [pickup, delivery]   \n",
       "\n",
       "  price                                           location         phone  \\\n",
       "0    $$  {'address1': '207 N University Ave', 'address2...  +15013798715   \n",
       "1    $$  {'address1': '101 S Bowman Rd', 'address2': ''...  +15012278333   \n",
       "2   NaN  {'address1': '4424 Frazier Pike', 'address2': ...  +15017471551   \n",
       "3    $$  {'address1': '3812 Jfk Blvd', 'address2': None...  +15014201117   \n",
       "4    $$  {'address1': '16900 Chenal Pkwy', 'address2': ...  +15014045858   \n",
       "\n",
       "    display_phone      distance  \n",
       "0  (501) 379-8715   3308.868005  \n",
       "1  (501) 227-8333   7038.847918  \n",
       "2  (501) 747-1551  10545.103583  \n",
       "3  (501) 420-1117  10403.242520  \n",
       "4  (501) 404-5858  11100.640460  "
      ]
     },
     "metadata": {},
     "output_type": "display_data"
    },
    {
     "data": {
      "text/html": [
       "<div>\n",
       "<style scoped>\n",
       "    .dataframe tbody tr th:only-of-type {\n",
       "        vertical-align: middle;\n",
       "    }\n",
       "\n",
       "    .dataframe tbody tr th {\n",
       "        vertical-align: top;\n",
       "    }\n",
       "\n",
       "    .dataframe thead th {\n",
       "        text-align: right;\n",
       "    }\n",
       "</style>\n",
       "<table border=\"1\" class=\"dataframe\">\n",
       "  <thead>\n",
       "    <tr style=\"text-align: right;\">\n",
       "      <th></th>\n",
       "      <th>id</th>\n",
       "      <th>alias</th>\n",
       "      <th>name</th>\n",
       "      <th>image_url</th>\n",
       "      <th>is_closed</th>\n",
       "      <th>url</th>\n",
       "      <th>review_count</th>\n",
       "      <th>categories</th>\n",
       "      <th>rating</th>\n",
       "      <th>coordinates</th>\n",
       "      <th>transactions</th>\n",
       "      <th>price</th>\n",
       "      <th>location</th>\n",
       "      <th>phone</th>\n",
       "      <th>display_phone</th>\n",
       "      <th>distance</th>\n",
       "    </tr>\n",
       "  </thead>\n",
       "  <tbody>\n",
       "    <tr>\n",
       "      <th>415</th>\n",
       "      <td>15q3XqdDRIR_WRB4VZC4dw</td>\n",
       "      <td>waffle-house-jacksonville-10</td>\n",
       "      <td>Waffle House</td>\n",
       "      <td>https://s3-media3.fl.yelpcdn.com/bphoto/Wy4YEt...</td>\n",
       "      <td>False</td>\n",
       "      <td>https://www.yelp.com/biz/waffle-house-jacksonv...</td>\n",
       "      <td>15</td>\n",
       "      <td>[{'alias': 'diners', 'title': 'Diners'}, {'ali...</td>\n",
       "      <td>2.5</td>\n",
       "      <td>{'latitude': 34.8687896, 'longitude': -92.128658}</td>\n",
       "      <td>[delivery]</td>\n",
       "      <td>NaN</td>\n",
       "      <td>{'address1': '116 Marshall Rd', 'address2': No...</td>\n",
       "      <td>+15019827986</td>\n",
       "      <td>(501) 982-7986</td>\n",
       "      <td>25086.276523</td>\n",
       "    </tr>\n",
       "    <tr>\n",
       "      <th>416</th>\n",
       "      <td>9YclROpOLTUbsKKjq3N-0Q</td>\n",
       "      <td>mcdonalds-sherwood-3</td>\n",
       "      <td>McDonald's</td>\n",
       "      <td>https://s3-media3.fl.yelpcdn.com/bphoto/D4cDPX...</td>\n",
       "      <td>False</td>\n",
       "      <td>https://www.yelp.com/biz/mcdonalds-sherwood-3?...</td>\n",
       "      <td>6</td>\n",
       "      <td>[{'alias': 'hotdogs', 'title': 'Fast Food'}, {...</td>\n",
       "      <td>1.0</td>\n",
       "      <td>{'latitude': 34.8306192290247, 'longitude': -9...</td>\n",
       "      <td>[delivery]</td>\n",
       "      <td>$</td>\n",
       "      <td>{'address1': '8400 Warden Rd', 'address2': '',...</td>\n",
       "      <td>+15018356323</td>\n",
       "      <td>(501) 835-6323</td>\n",
       "      <td>18596.254736</td>\n",
       "    </tr>\n",
       "    <tr>\n",
       "      <th>417</th>\n",
       "      <td>obmg-MELIZCa47VrVFz0xg</td>\n",
       "      <td>jordans-country-bar-b-q-bryant</td>\n",
       "      <td>Jordan's Country Bar-B Q</td>\n",
       "      <td>https://s3-media3.fl.yelpcdn.com/bphoto/vPVPKs...</td>\n",
       "      <td>False</td>\n",
       "      <td>https://www.yelp.com/biz/jordans-country-bar-b...</td>\n",
       "      <td>39</td>\n",
       "      <td>[{'alias': 'bbq', 'title': 'Barbeque'}]</td>\n",
       "      <td>2.5</td>\n",
       "      <td>{'latitude': 34.59564, 'longitude': -92.4887}</td>\n",
       "      <td>[delivery]</td>\n",
       "      <td>$</td>\n",
       "      <td>{'address1': '110 N Reynolds Rd', 'address2': ...</td>\n",
       "      <td>+15018476167</td>\n",
       "      <td>(501) 847-6167</td>\n",
       "      <td>19755.183344</td>\n",
       "    </tr>\n",
       "    <tr>\n",
       "      <th>418</th>\n",
       "      <td>d14AiJMSS7NndCre9jTT2Q</td>\n",
       "      <td>waffle-house-greensboro-2</td>\n",
       "      <td>Waffle House</td>\n",
       "      <td>https://s3-media3.fl.yelpcdn.com/bphoto/NRXK-X...</td>\n",
       "      <td>False</td>\n",
       "      <td>https://www.yelp.com/biz/waffle-house-greensbo...</td>\n",
       "      <td>35</td>\n",
       "      <td>[{'alias': 'breakfast_brunch', 'title': 'Break...</td>\n",
       "      <td>3.5</td>\n",
       "      <td>{'latitude': 34.872062, 'longitude': -92.109731}</td>\n",
       "      <td>[]</td>\n",
       "      <td>$</td>\n",
       "      <td>{'address1': '4302 Big Tree Way', 'address2': ...</td>\n",
       "      <td>+13362940035</td>\n",
       "      <td>(336) 294-0035</td>\n",
       "      <td>26654.981167</td>\n",
       "    </tr>\n",
       "    <tr>\n",
       "      <th>419</th>\n",
       "      <td>6xQN0yXxxkvlNSQPRjAI_w</td>\n",
       "      <td>mcdonalds-cabot-4</td>\n",
       "      <td>McDonald's</td>\n",
       "      <td>https://s3-media4.fl.yelpcdn.com/bphoto/qFvYpk...</td>\n",
       "      <td>False</td>\n",
       "      <td>https://www.yelp.com/biz/mcdonalds-cabot-4?adj...</td>\n",
       "      <td>20</td>\n",
       "      <td>[{'alias': 'hotdogs', 'title': 'Fast Food'}, {...</td>\n",
       "      <td>1.5</td>\n",
       "      <td>{'latitude': 34.9757433546351, 'longitude': -9...</td>\n",
       "      <td>[]</td>\n",
       "      <td>$</td>\n",
       "      <td>{'address1': '1001 W Main St', 'address2': '',...</td>\n",
       "      <td>+15018435559</td>\n",
       "      <td>(501) 843-5559</td>\n",
       "      <td>40021.423628</td>\n",
       "    </tr>\n",
       "  </tbody>\n",
       "</table>\n",
       "</div>"
      ],
      "text/plain": [
       "                         id                           alias  \\\n",
       "415  15q3XqdDRIR_WRB4VZC4dw    waffle-house-jacksonville-10   \n",
       "416  9YclROpOLTUbsKKjq3N-0Q            mcdonalds-sherwood-3   \n",
       "417  obmg-MELIZCa47VrVFz0xg  jordans-country-bar-b-q-bryant   \n",
       "418  d14AiJMSS7NndCre9jTT2Q       waffle-house-greensboro-2   \n",
       "419  6xQN0yXxxkvlNSQPRjAI_w               mcdonalds-cabot-4   \n",
       "\n",
       "                         name  \\\n",
       "415              Waffle House   \n",
       "416                McDonald's   \n",
       "417  Jordan's Country Bar-B Q   \n",
       "418              Waffle House   \n",
       "419                McDonald's   \n",
       "\n",
       "                                             image_url  is_closed  \\\n",
       "415  https://s3-media3.fl.yelpcdn.com/bphoto/Wy4YEt...      False   \n",
       "416  https://s3-media3.fl.yelpcdn.com/bphoto/D4cDPX...      False   \n",
       "417  https://s3-media3.fl.yelpcdn.com/bphoto/vPVPKs...      False   \n",
       "418  https://s3-media3.fl.yelpcdn.com/bphoto/NRXK-X...      False   \n",
       "419  https://s3-media4.fl.yelpcdn.com/bphoto/qFvYpk...      False   \n",
       "\n",
       "                                                   url  review_count  \\\n",
       "415  https://www.yelp.com/biz/waffle-house-jacksonv...            15   \n",
       "416  https://www.yelp.com/biz/mcdonalds-sherwood-3?...             6   \n",
       "417  https://www.yelp.com/biz/jordans-country-bar-b...            39   \n",
       "418  https://www.yelp.com/biz/waffle-house-greensbo...            35   \n",
       "419  https://www.yelp.com/biz/mcdonalds-cabot-4?adj...            20   \n",
       "\n",
       "                                            categories  rating  \\\n",
       "415  [{'alias': 'diners', 'title': 'Diners'}, {'ali...     2.5   \n",
       "416  [{'alias': 'hotdogs', 'title': 'Fast Food'}, {...     1.0   \n",
       "417            [{'alias': 'bbq', 'title': 'Barbeque'}]     2.5   \n",
       "418  [{'alias': 'breakfast_brunch', 'title': 'Break...     3.5   \n",
       "419  [{'alias': 'hotdogs', 'title': 'Fast Food'}, {...     1.5   \n",
       "\n",
       "                                           coordinates transactions price  \\\n",
       "415  {'latitude': 34.8687896, 'longitude': -92.128658}   [delivery]   NaN   \n",
       "416  {'latitude': 34.8306192290247, 'longitude': -9...   [delivery]     $   \n",
       "417      {'latitude': 34.59564, 'longitude': -92.4887}   [delivery]     $   \n",
       "418   {'latitude': 34.872062, 'longitude': -92.109731}           []     $   \n",
       "419  {'latitude': 34.9757433546351, 'longitude': -9...           []     $   \n",
       "\n",
       "                                              location         phone  \\\n",
       "415  {'address1': '116 Marshall Rd', 'address2': No...  +15019827986   \n",
       "416  {'address1': '8400 Warden Rd', 'address2': '',...  +15018356323   \n",
       "417  {'address1': '110 N Reynolds Rd', 'address2': ...  +15018476167   \n",
       "418  {'address1': '4302 Big Tree Way', 'address2': ...  +13362940035   \n",
       "419  {'address1': '1001 W Main St', 'address2': '',...  +15018435559   \n",
       "\n",
       "      display_phone      distance  \n",
       "415  (501) 982-7986  25086.276523  \n",
       "416  (501) 835-6323  18596.254736  \n",
       "417  (501) 847-6167  19755.183344  \n",
       "418  (336) 294-0035  26654.981167  \n",
       "419  (501) 843-5559  40021.423628  "
      ]
     },
     "metadata": {},
     "output_type": "display_data"
    }
   ],
   "source": [
    "# load final results\n",
    "final_df = pd.read_json(JSON_FILE)\n",
    "display(final_df.head(), final_df.tail())"
   ]
  },
  {
   "cell_type": "code",
   "execution_count": 21,
   "id": "2c3729d1",
   "metadata": {},
   "outputs": [
    {
     "name": "stdout",
     "output_type": "stream",
     "text": [
      "<class 'pandas.core.frame.DataFrame'>\n",
      "RangeIndex: 420 entries, 0 to 419\n",
      "Data columns (total 16 columns):\n",
      " #   Column         Non-Null Count  Dtype  \n",
      "---  ------         --------------  -----  \n",
      " 0   id             420 non-null    object \n",
      " 1   alias          420 non-null    object \n",
      " 2   name           420 non-null    object \n",
      " 3   image_url      420 non-null    object \n",
      " 4   is_closed      420 non-null    bool   \n",
      " 5   url            420 non-null    object \n",
      " 6   review_count   420 non-null    int64  \n",
      " 7   categories     420 non-null    object \n",
      " 8   rating         420 non-null    float64\n",
      " 9   coordinates    420 non-null    object \n",
      " 10  transactions   420 non-null    object \n",
      " 11  price          317 non-null    object \n",
      " 12  location       420 non-null    object \n",
      " 13  phone          420 non-null    object \n",
      " 14  display_phone  420 non-null    object \n",
      " 15  distance       420 non-null    float64\n",
      "dtypes: bool(1), float64(2), int64(1), object(12)\n",
      "memory usage: 49.8+ KB\n"
     ]
    }
   ],
   "source": [
    "# check for duplicate results\n",
    "final_df.info()"
   ]
  },
  {
   "cell_type": "code",
   "execution_count": 22,
   "id": "673efd04",
   "metadata": {},
   "outputs": [
    {
     "data": {
      "text/plain": [
       "0"
      ]
     },
     "execution_count": 22,
     "metadata": {},
     "output_type": "execute_result"
    }
   ],
   "source": [
    "# check for duplicate ID's \n",
    "final_df.duplicated(subset='id').sum()"
   ]
  },
  {
   "cell_type": "code",
   "execution_count": 23,
   "id": "612e1537",
   "metadata": {},
   "outputs": [],
   "source": [
    "final_df.to_csv(f'Data/final_results_{LOCATION}_{TERM}.csv.gz', compression='gzip',index=False)"
   ]
  }
 ],
 "metadata": {
  "kernelspec": {
   "display_name": "Python 3 (ipykernel)",
   "language": "python",
   "name": "python3"
  },
  "language_info": {
   "codemirror_mode": {
    "name": "ipython",
    "version": 3
   },
   "file_extension": ".py",
   "mimetype": "text/x-python",
   "name": "python",
   "nbconvert_exporter": "python",
   "pygments_lexer": "ipython3",
   "version": "3.9.15"
  },
  "toc": {
   "base_numbering": 1,
   "nav_menu": {},
   "number_sections": false,
   "sideBar": true,
   "skip_h1_title": false,
   "title_cell": "Table of Contents",
   "title_sidebar": "Contents",
   "toc_cell": false,
   "toc_position": {},
   "toc_section_display": true,
   "toc_window_display": false
  }
 },
 "nbformat": 4,
 "nbformat_minor": 5
}
